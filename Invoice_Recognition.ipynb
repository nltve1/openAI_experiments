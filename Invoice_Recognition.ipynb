{
 "cells": [
  {
   "cell_type": "code",
   "execution_count": 7,
   "id": "48c60705-bd4b-452f-b37e-5ae6835f655e",
   "metadata": {},
   "outputs": [],
   "source": [
    "import FormRecognizer\n",
    "import Constants\n",
    "import openai"
   ]
  },
  {
   "cell_type": "code",
   "execution_count": 8,
   "id": "14b13676-c64a-467b-8442-b96ee166032e",
   "metadata": {},
   "outputs": [],
   "source": [
    "invoice_json = 'Invoices_json/CoolBlue_Chromecast_Original.json'\n",
    "analyzed_invoice = FormRecognizer.get_invoice_analyzed_result_from_json(invoice_json)"
   ]
  },
  {
   "cell_type": "code",
   "execution_count": 10,
   "id": "dae72561-32a7-4949-aa87-8383a87cf81e",
   "metadata": {},
   "outputs": [],
   "source": [
    "invoiceText = analyzed_invoice.content"
   ]
  },
  {
   "cell_type": "code",
   "execution_count": 11,
   "id": "997d48c0-1fbc-47a4-afce-150d8113d82b",
   "metadata": {},
   "outputs": [],
   "source": [
    "openai.api_key = Constants.OPENAI_API_KEY"
   ]
  },
  {
   "cell_type": "code",
   "execution_count": 18,
   "id": "49a72efb-16a5-4d85-8d75-9cb947185887",
   "metadata": {},
   "outputs": [],
   "source": [
    "class modelInput:\n",
    "    def __init__(self, invoiceText, model, prompt, completion, temperature=0.7, max_tokens=2048, top_p=1, frequency_penalty=0, presence_penalty=0):\n",
    "        self.invoiceText = invoiceText\n",
    "        self.model = model\n",
    "        self.prompt = prompt\n",
    "        self.completion = completion\n",
    "        self.temperature = temperature\n",
    "        self.max_tokens = max_tokens\n",
    "        self.top_p = top_p\n",
    "        self.frequency_penalty = frequency_penalty\n",
    "        self.presence_penalty = presence_penalty\n",
    "        \n",
    "    def createCompletion(self):\n",
    "        response = openai.Completion.create(\n",
    "            engine= self.model,\n",
    "            prompt=self.prompt + '\\n\\n' + self.invoiceText + '\\n\\n' + self.completion,\n",
    "            temperature=self.temperature,\n",
    "            max_tokens=self.max_tokens,\n",
    "            top_p=self.top_p,\n",
    "            frequency_penalty=self.frequency_penalty,\n",
    "            presence_penalty=self.presence_penalty\n",
    "        )\n",
    "        \n",
    "        return response\n",
    "    \n",
    "    def __str__(self):\n",
    "        return f\"{self.prompt}\\n\\n{self.invoiceText}\\n\\n{self.completion}\""
   ]
  },
  {
   "cell_type": "code",
   "execution_count": 19,
   "id": "1f6419f0-beda-4a4f-a7ee-402754db7e5f",
   "metadata": {},
   "outputs": [],
   "source": [
    "prompt = 'Extract invoice number, invoice date, kvk number, line items and price in eur, total amount in eur'\n",
    "completion = 'invoice number, invoice date, kvk number, line items and price in eur, total amount in eur:' \n",
    "engine = 'text-davinci-003'\n",
    "\n",
    "invoice = modelInput(invoiceText, engine, prompt, completion)"
   ]
  },
  {
   "cell_type": "code",
   "execution_count": 21,
   "id": "44304efb-398f-44e8-bc42-162f45c9a014",
   "metadata": {},
   "outputs": [],
   "source": [
    "result = invoice.createCompletion()"
   ]
  },
  {
   "cell_type": "code",
   "execution_count": 30,
   "id": "fb29666a-782a-40be-9491-e0ba83376a4a",
   "metadata": {},
   "outputs": [
    {
     "name": "stdout",
     "output_type": "stream",
     "text": [
      "\n",
      "\n",
      "Invoice Number: 1058391103\n",
      "Invoice Date: 27 September 2020\n",
      "KvK Number: 24330087\n",
      "Line Items: Google Chromecast Ultra, 1 unit, €84.99 (incl. 21% BTW)\n",
      "Price in Eur: €84.99 (incl. 21% BTW)\n",
      "Total Amount in Eur: €84.99\n"
     ]
    }
   ],
   "source": [
    "print(result.choices[0].text)"
   ]
  },
  {
   "cell_type": "code",
   "execution_count": null,
   "id": "d4231ac2-5010-4e52-9543-c9904ef4c999",
   "metadata": {},
   "outputs": [],
   "source": []
  }
 ],
 "metadata": {
  "kernelspec": {
   "display_name": "openAI_experiments",
   "language": "python",
   "name": "openai_experiments"
  },
  "language_info": {
   "codemirror_mode": {
    "name": "ipython",
    "version": 3
   },
   "file_extension": ".py",
   "mimetype": "text/x-python",
   "name": "python",
   "nbconvert_exporter": "python",
   "pygments_lexer": "ipython3",
   "version": "3.9.0"
  }
 },
 "nbformat": 4,
 "nbformat_minor": 5
}
