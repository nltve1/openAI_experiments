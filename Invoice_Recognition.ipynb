{
 "cells": [
  {
   "cell_type": "code",
   "execution_count": 7,
   "id": "48c60705-bd4b-452f-b37e-5ae6835f655e",
   "metadata": {},
   "outputs": [],
   "source": [
    "import FormRecognizer\n",
    "import Constants\n",
    "import openai"
   ]
  },
  {
   "cell_type": "code",
   "execution_count": 8,
   "id": "14b13676-c64a-467b-8442-b96ee166032e",
   "metadata": {},
   "outputs": [],
   "source": [
    "invoice_json = 'Invoices_json/CoolBlue_Chromecast_Original.json'\n",
    "analyzed_invoice = FormRecognizer.get_invoice_analyzed_result_from_json(invoice_json)"
   ]
  },
  {
   "cell_type": "code",
   "execution_count": 10,
   "id": "dae72561-32a7-4949-aa87-8383a87cf81e",
   "metadata": {},
   "outputs": [],
   "source": [
    "invoiceText = analyzed_invoice.content"
   ]
  },
  {
   "cell_type": "code",
   "execution_count": 11,
   "id": "997d48c0-1fbc-47a4-afce-150d8113d82b",
   "metadata": {},
   "outputs": [],
   "source": [
    "openai.api_key = Constants.OPENAI_API_KEY"
   ]
  },
  {
   "cell_type": "code",
   "execution_count": null,
   "id": "49a72efb-16a5-4d85-8d75-9cb947185887",
   "metadata": {},
   "outputs": [],
   "source": []
  }
 ],
 "metadata": {
  "kernelspec": {
   "display_name": "openAI_experiments",
   "language": "python",
   "name": "openai_experiments"
  },
  "language_info": {
   "codemirror_mode": {
    "name": "ipython",
    "version": 3
   },
   "file_extension": ".py",
   "mimetype": "text/x-python",
   "name": "python",
   "nbconvert_exporter": "python",
   "pygments_lexer": "ipython3",
   "version": "3.9.0"
  }
 },
 "nbformat": 4,
 "nbformat_minor": 5
}
